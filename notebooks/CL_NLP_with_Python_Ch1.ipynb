{
  "nbformat": 4,
  "nbformat_minor": 0,
  "metadata": {
    "colab": {
      "provenance": []
    },
    "kernelspec": {
      "name": "python3",
      "display_name": "Python 3"
    },
    "language_info": {
      "name": "python"
    }
  },
  "cells": [
    {
      "cell_type": "markdown",
      "source": [
        "#KEYWORDS USED\n",
        "\n",
        "\n",
        "\n",
        "*   Lexicon\n",
        "*   Lexical Dispersion Plot\n",
        "*   Concordance\n",
        "*   CFG\n",
        "*   Vocabulary\n",
        "*   Token\n",
        "*   Corpus\n",
        "*   Hapaxes\n",
        "*   Collocations\n",
        "*   Bigrams\n",
        "*   Word Sense Disambiguation\n",
        "*   Antecedent\n",
        "*   Pronoun Resolution\n",
        "*   Anaphora Resolution\n",
        "*   Semantic Role Labeling\n",
        "*   Text Alignment\n",
        "*   Morphological & Lexical Analysis\n",
        "\n",
        "\n",
        "\n",
        "\n",
        "\n",
        "\n",
        "\n",
        "\n",
        "\n",
        "\n",
        "\n",
        "\n",
        "\n",
        "\n",
        "\n",
        "\n",
        "\n"
      ],
      "metadata": {
        "id": "6PSYdl5-wxoy"
      }
    },
    {
      "cell_type": "markdown",
      "source": [
        "Basic Interpretor Arithmetic Operations"
      ],
      "metadata": {
        "id": "sHN27DFHuROs"
      }
    },
    {
      "cell_type": "code",
      "execution_count": 1,
      "metadata": {
        "colab": {
          "base_uri": "https://localhost:8080/"
        },
        "id": "fE0mKSvrtzXc",
        "outputId": "b4c96921-e363-408e-ff40-602b1825478e"
      },
      "outputs": [
        {
          "output_type": "execute_result",
          "data": {
            "text/plain": [
              "0.6000000000000001"
            ]
          },
          "metadata": {},
          "execution_count": 1
        }
      ],
      "source": [
        "1+2-3*4/5"
      ]
    },
    {
      "cell_type": "code",
      "source": [
        "1 + "
      ],
      "metadata": {
        "colab": {
          "base_uri": "https://localhost:8080/",
          "height": 133
        },
        "id": "VlK4mMPAucyX",
        "outputId": "401537ae-b1b6-445b-c3a1-88fc06f8ae2a"
      },
      "execution_count": 2,
      "outputs": [
        {
          "output_type": "error",
          "ename": "SyntaxError",
          "evalue": "ignored",
          "traceback": [
            "\u001b[0;36m  File \u001b[0;32m\"<ipython-input-2-428cd044e81f>\"\u001b[0;36m, line \u001b[0;32m1\u001b[0m\n\u001b[0;31m    1 +\u001b[0m\n\u001b[0m        ^\u001b[0m\n\u001b[0;31mSyntaxError\u001b[0m\u001b[0;31m:\u001b[0m invalid syntax\n"
          ]
        }
      ]
    },
    {
      "cell_type": "code",
      "source": [
        "import nltk\n",
        "nltk.download()"
      ],
      "metadata": {
        "colab": {
          "base_uri": "https://localhost:8080/"
        },
        "id": "LZhqylfzujQT",
        "outputId": "6d0a97df-a660-452b-96a4-52ef56b7051d"
      },
      "execution_count": 3,
      "outputs": [
        {
          "name": "stdout",
          "output_type": "stream",
          "text": [
            "NLTK Downloader\n",
            "---------------------------------------------------------------------------\n",
            "    d) Download   l) List    u) Update   c) Config   h) Help   q) Quit\n",
            "---------------------------------------------------------------------------\n",
            "Downloader> d\n",
            "\n",
            "Download which package (l=list; x=cancel)?\n",
            "  Identifier> l\n",
            "Packages:\n",
            "  [ ] abc................. Australian Broadcasting Commission 2006\n",
            "  [ ] alpino.............. Alpino Dutch Treebank\n",
            "  [ ] averaged_perceptron_tagger Averaged Perceptron Tagger\n",
            "  [ ] averaged_perceptron_tagger_ru Averaged Perceptron Tagger (Russian)\n",
            "  [ ] basque_grammars..... Grammars for Basque\n",
            "  [ ] biocreative_ppi..... BioCreAtIvE (Critical Assessment of Information\n",
            "                           Extraction Systems in Biology)\n",
            "  [ ] bllip_wsj_no_aux.... BLLIP Parser: WSJ Model\n",
            "  [ ] book_grammars....... Grammars from NLTK Book\n",
            "  [ ] brown............... Brown Corpus\n",
            "  [ ] brown_tei........... Brown Corpus (TEI XML Version)\n",
            "  [ ] cess_cat............ CESS-CAT Treebank\n",
            "  [ ] cess_esp............ CESS-ESP Treebank\n",
            "  [ ] chat80.............. Chat-80 Data Files\n",
            "  [ ] city_database....... City Database\n",
            "  [ ] cmudict............. The Carnegie Mellon Pronouncing Dictionary (0.6)\n",
            "  [ ] comparative_sentences Comparative Sentence Dataset\n",
            "  [ ] comtrans............ ComTrans Corpus Sample\n",
            "  [ ] conll2000........... CONLL 2000 Chunking Corpus\n",
            "  [ ] conll2002........... CONLL 2002 Named Entity Recognition Corpus\n",
            "Hit Enter to continue: book\n",
            "  [ ] conll2007........... Dependency Treebanks from CoNLL 2007 (Catalan\n",
            "                           and Basque Subset)\n",
            "  [ ] crubadan............ Crubadan Corpus\n",
            "  [ ] dependency_treebank. Dependency Parsed Treebank\n",
            "  [ ] dolch............... Dolch Word List\n",
            "  [ ] europarl_raw........ Sample European Parliament Proceedings Parallel\n",
            "                           Corpus\n",
            "  [ ] extended_omw........ Extended Open Multilingual WordNet\n",
            "  [ ] floresta............ Portuguese Treebank\n",
            "  [ ] framenet_v15........ FrameNet 1.5\n",
            "  [ ] framenet_v17........ FrameNet 1.7\n",
            "  [ ] gazetteers.......... Gazeteer Lists\n",
            "  [ ] genesis............. Genesis Corpus\n",
            "  [ ] gutenberg........... Project Gutenberg Selections\n",
            "  [ ] ieer................ NIST IE-ER DATA SAMPLE\n",
            "  [ ] inaugural........... C-Span Inaugural Address Corpus\n",
            "  [ ] indian.............. Indian Language POS-Tagged Corpus\n",
            "  [ ] jeita............... JEITA Public Morphologically Tagged Corpus (in\n",
            "                           ChaSen format)\n",
            "  [ ] kimmo............... PC-KIMMO Data Files\n",
            "  [ ] knbc................ KNB Corpus (Annotated blog corpus)\n",
            "Hit Enter to continue: \n",
            "  [ ] large_grammars...... Large context-free and feature-based grammars\n",
            "                           for parser comparison\n",
            "  [ ] lin_thesaurus....... Lin's Dependency Thesaurus\n",
            "  [ ] mac_morpho.......... MAC-MORPHO: Brazilian Portuguese news text with\n",
            "                           part-of-speech tags\n",
            "  [ ] machado............. Machado de Assis -- Obra Completa\n",
            "  [ ] masc_tagged......... MASC Tagged Corpus\n",
            "  [ ] maxent_ne_chunker... ACE Named Entity Chunker (Maximum entropy)\n",
            "  [ ] maxent_treebank_pos_tagger Treebank Part of Speech Tagger (Maximum entropy)\n",
            "  [ ] moses_sample........ Moses Sample Models\n",
            "  [ ] movie_reviews....... Sentiment Polarity Dataset Version 2.0\n",
            "  [ ] mte_teip5........... MULTEXT-East 1984 annotated corpus 4.0\n",
            "  [ ] mwa_ppdb............ The monolingual word aligner (Sultan et al.\n",
            "                           2015) subset of the Paraphrase Database.\n",
            "  [ ] names............... Names Corpus, Version 1.3 (1994-03-29)\n",
            "  [ ] nombank.1.0......... NomBank Corpus 1.0\n",
            "  [ ] nonbreaking_prefixes Non-Breaking Prefixes (Moses Decoder)\n",
            "  [ ] nps_chat............ NPS Chat\n",
            "  [ ] omw-1.4............. Open Multilingual Wordnet\n",
            "  [ ] omw................. Open Multilingual Wordnet\n",
            "  [ ] opinion_lexicon..... Opinion Lexicon\n",
            "Hit Enter to continue: \n",
            "  [ ] panlex_swadesh...... PanLex Swadesh Corpora\n",
            "  [ ] paradigms........... Paradigm Corpus\n",
            "  [ ] pe08................ Cross-Framework and Cross-Domain Parser\n",
            "                           Evaluation Shared Task\n",
            "  [ ] perluniprops........ perluniprops: Index of Unicode Version 7.0.0\n",
            "                           character properties in Perl\n",
            "  [ ] pil................. The Patient Information Leaflet (PIL) Corpus\n",
            "  [ ] pl196x.............. Polish language of the XX century sixties\n",
            "  [ ] porter_test......... Porter Stemmer Test Files\n",
            "  [ ] ppattach............ Prepositional Phrase Attachment Corpus\n",
            "  [ ] problem_reports..... Problem Report Corpus\n",
            "  [ ] product_reviews_1... Product Reviews (5 Products)\n",
            "  [ ] product_reviews_2... Product Reviews (9 Products)\n",
            "  [ ] propbank............ Proposition Bank Corpus 1.0\n",
            "  [ ] pros_cons........... Pros and Cons\n",
            "  [ ] ptb................. Penn Treebank\n",
            "  [ ] punkt............... Punkt Tokenizer Models\n",
            "  [ ] qc.................. Experimental Data for Question Classification\n",
            "  [ ] reuters............. The Reuters-21578 benchmark corpus, ApteMod\n",
            "                           version\n",
            "  [ ] rslp................ RSLP Stemmer (Removedor de Sufixos da Lingua\n",
            "                           Portuguesa)\n",
            "Hit Enter to continue: \n",
            "  [ ] rte................. PASCAL RTE Challenges 1, 2, and 3\n",
            "  [ ] sample_grammars..... Sample Grammars\n",
            "  [ ] semcor.............. SemCor 3.0\n",
            "  [ ] senseval............ SENSEVAL 2 Corpus: Sense Tagged Text\n",
            "  [ ] sentence_polarity... Sentence Polarity Dataset v1.0\n",
            "  [ ] sentiwordnet........ SentiWordNet\n",
            "  [ ] shakespeare......... Shakespeare XML Corpus Sample\n",
            "  [ ] sinica_treebank..... Sinica Treebank Corpus Sample\n",
            "  [ ] smultron............ SMULTRON Corpus Sample\n",
            "  [ ] snowball_data....... Snowball Data\n",
            "  [ ] spanish_grammars.... Grammars for Spanish\n",
            "  [ ] state_union......... C-Span State of the Union Address Corpus\n",
            "  [ ] stopwords........... Stopwords Corpus\n",
            "  [ ] subjectivity........ Subjectivity Dataset v1.0\n",
            "  [ ] swadesh............. Swadesh Wordlists\n",
            "  [ ] switchboard......... Switchboard Corpus Sample\n",
            "  [ ] tagsets............. Help on Tagsets\n",
            "  [ ] timit............... TIMIT Corpus Sample\n",
            "  [ ] toolbox............. Toolbox Sample Files\n",
            "  [ ] treebank............ Penn Treebank Sample\n",
            "  [ ] twitter_samples..... Twitter Samples\n",
            "Hit Enter to continue: \n",
            "  [ ] udhr2............... Universal Declaration of Human Rights Corpus\n",
            "                           (Unicode Version)\n",
            "  [ ] udhr................ Universal Declaration of Human Rights Corpus\n",
            "  [ ] unicode_samples..... Unicode Samples\n",
            "  [ ] universal_tagset.... Mappings to the Universal Part-of-Speech Tagset\n",
            "  [ ] universal_treebanks_v20 Universal Treebanks Version 2.0\n",
            "  [ ] vader_lexicon....... VADER Sentiment Lexicon\n",
            "  [ ] verbnet3............ VerbNet Lexicon, Version 3.3\n",
            "  [ ] verbnet............. VerbNet Lexicon, Version 2.1\n",
            "  [ ] webtext............. Web Text Corpus\n",
            "  [ ] wmt15_eval.......... Evaluation data from WMT15\n",
            "  [ ] word2vec_sample..... Word2Vec Sample\n",
            "  [ ] wordnet2021......... Open English Wordnet 2021\n",
            "  [ ] wordnet31........... Wordnet 3.1\n",
            "  [ ] wordnet............. WordNet\n",
            "  [ ] wordnet_ic.......... WordNet-InfoContent\n",
            "  [ ] words............... Word Lists\n",
            "  [ ] ycoe................ York-Toronto-Helsinki Parsed Corpus of Old\n",
            "                           English Prose\n",
            "\n",
            "Collections:\n",
            "  [ ] all-corpora......... All the corpora\n",
            "Hit Enter to continue: \n",
            "  [ ] all-nltk............ All packages available on nltk_data gh-pages\n",
            "                           branch\n",
            "  [ ] all................. All packages\n",
            "  [ ] book................ Everything used in the NLTK Book\n",
            "  [ ] popular............. Popular packages\n",
            "  [ ] tests............... Packages for running tests\n",
            "  [ ] third-party......... Third-party data packages\n",
            "\n",
            "([*] marks installed packages)\n",
            "\n",
            "Download which package (l=list; x=cancel)?\n",
            "  Identifier> book\n"
          ]
        },
        {
          "output_type": "stream",
          "name": "stderr",
          "text": [
            "    Downloading collection 'book'\n",
            "       | \n",
            "       | Downloading package abc to /root/nltk_data...\n",
            "       |   Unzipping corpora/abc.zip.\n",
            "       | Downloading package brown to /root/nltk_data...\n",
            "       |   Unzipping corpora/brown.zip.\n",
            "       | Downloading package chat80 to /root/nltk_data...\n",
            "       |   Unzipping corpora/chat80.zip.\n",
            "       | Downloading package cmudict to /root/nltk_data...\n",
            "       |   Unzipping corpora/cmudict.zip.\n",
            "       | Downloading package conll2000 to /root/nltk_data...\n",
            "       |   Unzipping corpora/conll2000.zip.\n",
            "       | Downloading package conll2002 to /root/nltk_data...\n",
            "       |   Unzipping corpora/conll2002.zip.\n",
            "       | Downloading package dependency_treebank to /root/nltk_data...\n",
            "       |   Unzipping corpora/dependency_treebank.zip.\n",
            "       | Downloading package genesis to /root/nltk_data...\n",
            "       |   Unzipping corpora/genesis.zip.\n",
            "       | Downloading package gutenberg to /root/nltk_data...\n",
            "       |   Unzipping corpora/gutenberg.zip.\n",
            "       | Downloading package ieer to /root/nltk_data...\n",
            "       |   Unzipping corpora/ieer.zip.\n",
            "       | Downloading package inaugural to /root/nltk_data...\n",
            "       |   Unzipping corpora/inaugural.zip.\n",
            "       | Downloading package movie_reviews to /root/nltk_data...\n",
            "       |   Unzipping corpora/movie_reviews.zip.\n",
            "       | Downloading package nps_chat to /root/nltk_data...\n",
            "       |   Unzipping corpora/nps_chat.zip.\n",
            "       | Downloading package names to /root/nltk_data...\n",
            "       |   Unzipping corpora/names.zip.\n",
            "       | Downloading package ppattach to /root/nltk_data...\n",
            "       |   Unzipping corpora/ppattach.zip.\n",
            "       | Downloading package reuters to /root/nltk_data...\n",
            "       | Downloading package senseval to /root/nltk_data...\n",
            "       |   Unzipping corpora/senseval.zip.\n",
            "       | Downloading package state_union to /root/nltk_data...\n",
            "       |   Unzipping corpora/state_union.zip.\n",
            "       | Downloading package stopwords to /root/nltk_data...\n",
            "       |   Unzipping corpora/stopwords.zip.\n",
            "       | Downloading package swadesh to /root/nltk_data...\n",
            "       |   Unzipping corpora/swadesh.zip.\n",
            "       | Downloading package timit to /root/nltk_data...\n",
            "       |   Unzipping corpora/timit.zip.\n",
            "       | Downloading package treebank to /root/nltk_data...\n",
            "       |   Unzipping corpora/treebank.zip.\n",
            "       | Downloading package toolbox to /root/nltk_data...\n",
            "       |   Unzipping corpora/toolbox.zip.\n",
            "       | Downloading package udhr to /root/nltk_data...\n",
            "       |   Unzipping corpora/udhr.zip.\n",
            "       | Downloading package udhr2 to /root/nltk_data...\n",
            "       |   Unzipping corpora/udhr2.zip.\n",
            "       | Downloading package unicode_samples to /root/nltk_data...\n",
            "       |   Unzipping corpora/unicode_samples.zip.\n",
            "       | Downloading package webtext to /root/nltk_data...\n",
            "       |   Unzipping corpora/webtext.zip.\n",
            "       | Downloading package wordnet to /root/nltk_data...\n",
            "       | Downloading package wordnet_ic to /root/nltk_data...\n",
            "       |   Unzipping corpora/wordnet_ic.zip.\n",
            "       | Downloading package words to /root/nltk_data...\n",
            "       |   Unzipping corpora/words.zip.\n",
            "       | Downloading package maxent_treebank_pos_tagger to\n",
            "       |     /root/nltk_data...\n",
            "       |   Unzipping taggers/maxent_treebank_pos_tagger.zip.\n",
            "       | Downloading package maxent_ne_chunker to /root/nltk_data...\n",
            "       |   Unzipping chunkers/maxent_ne_chunker.zip.\n",
            "       | Downloading package universal_tagset to /root/nltk_data...\n",
            "       |   Unzipping taggers/universal_tagset.zip.\n",
            "       | Downloading package punkt to /root/nltk_data...\n",
            "       |   Unzipping tokenizers/punkt.zip.\n",
            "       | Downloading package book_grammars to /root/nltk_data...\n",
            "       |   Unzipping grammars/book_grammars.zip.\n",
            "       | Downloading package city_database to /root/nltk_data...\n",
            "       |   Unzipping corpora/city_database.zip.\n",
            "       | Downloading package tagsets to /root/nltk_data...\n",
            "       |   Unzipping help/tagsets.zip.\n",
            "       | Downloading package panlex_swadesh to /root/nltk_data...\n",
            "       | Downloading package averaged_perceptron_tagger to\n",
            "       |     /root/nltk_data...\n",
            "       |   Unzipping taggers/averaged_perceptron_tagger.zip.\n",
            "       | \n",
            "     Done downloading collection book\n"
          ]
        },
        {
          "name": "stdout",
          "output_type": "stream",
          "text": [
            "\n",
            "---------------------------------------------------------------------------\n",
            "    d) Download   l) List    u) Update   c) Config   h) Help   q) Quit\n",
            "---------------------------------------------------------------------------\n",
            "Downloader> q\n"
          ]
        },
        {
          "output_type": "execute_result",
          "data": {
            "text/plain": [
              "True"
            ]
          },
          "metadata": {},
          "execution_count": 3
        }
      ]
    },
    {
      "cell_type": "code",
      "source": [
        "from nltk.book import *"
      ],
      "metadata": {
        "colab": {
          "base_uri": "https://localhost:8080/"
        },
        "id": "qK0Mp9plunTY",
        "outputId": "a04a561c-f128-43f4-83af-811e6b6985a5"
      },
      "execution_count": 4,
      "outputs": [
        {
          "output_type": "stream",
          "name": "stdout",
          "text": [
            "*** Introductory Examples for the NLTK Book ***\n",
            "Loading text1, ..., text9 and sent1, ..., sent9\n",
            "Type the name of the text or sentence to view it.\n",
            "Type: 'texts()' or 'sents()' to list the materials.\n",
            "text1: Moby Dick by Herman Melville 1851\n",
            "text2: Sense and Sensibility by Jane Austen 1811\n",
            "text3: The Book of Genesis\n",
            "text4: Inaugural Address Corpus\n",
            "text5: Chat Corpus\n",
            "text6: Monty Python and the Holy Grail\n",
            "text7: Wall Street Journal\n",
            "text8: Personals Corpus\n",
            "text9: The Man Who Was Thursday by G . K . Chesterton 1908\n"
          ]
        }
      ]
    },
    {
      "cell_type": "code",
      "source": [
        "print(text1)\n",
        "print(type(text1))\n"
      ],
      "metadata": {
        "colab": {
          "base_uri": "https://localhost:8080/"
        },
        "id": "2HooLsxvu5lN",
        "outputId": "d503a19c-66ed-422d-d3d2-95d3717dea51"
      },
      "execution_count": 8,
      "outputs": [
        {
          "output_type": "stream",
          "name": "stdout",
          "text": [
            "<Text: Moby Dick by Herman Melville 1851>\n",
            "<class 'nltk.text.Text'>\n"
          ]
        }
      ]
    },
    {
      "cell_type": "markdown",
      "source": [
        "# CONCORDANCE()\n",
        "\n",
        "\n",
        "*   A concordance view shows us every occurrence of a given word, together with some context. \n",
        "*   concordance() method is not case-sensitive. \n",
        "*   The first time you use a concordance on a particular text, it takes a few extra seconds to build an index so that subsequent searches are fast.\n",
        "\n",
        "\n",
        "\n",
        "\n"
      ],
      "metadata": {
        "id": "dGjd2pQcvcLi"
      }
    },
    {
      "cell_type": "code",
      "source": [
        "text1.concordance(\"Monstrous\")"
      ],
      "metadata": {
        "colab": {
          "base_uri": "https://localhost:8080/"
        },
        "id": "9DcyYTfwvD3j",
        "outputId": "9ebc1a22-c34f-476e-bd4d-dcb685110574"
      },
      "execution_count": 12,
      "outputs": [
        {
          "output_type": "stream",
          "name": "stdout",
          "text": [
            "Displaying 11 of 11 matches:\n",
            "ong the former , one was of a most monstrous size . ... This came towards us , \n",
            "ON OF THE PSALMS . \" Touching that monstrous bulk of the whale or ork we have r\n",
            "ll over with a heathenish array of monstrous clubs and spears . Some were thick\n",
            "d as you gazed , and wondered what monstrous cannibal and savage could ever hav\n",
            "that has survived the flood ; most monstrous and most mountainous ! That Himmal\n",
            "they might scout at Moby Dick as a monstrous fable , or still worse and more de\n",
            "th of Radney .'\" CHAPTER 55 Of the Monstrous Pictures of Whales . I shall ere l\n",
            "ing Scenes . In connexion with the monstrous pictures of whales , I am strongly\n",
            "ere to enter upon those still more monstrous stories of them which are to be fo\n",
            "ght have been rummaged out of this monstrous cabinet there is no telling . But \n",
            "of Whale - Bones ; for Whales of a monstrous size are oftentimes cast up dead u\n"
          ]
        }
      ]
    },
    {
      "cell_type": "markdown",
      "source": [
        "# SIMILAR()\n",
        "\n",
        "\n",
        "*   What other words appear in a similar range of contexts? We can find out by appending the term similar to the name of the text in question, then inserting the relevant word in parentheses.\n",
        "\n"
      ],
      "metadata": {
        "id": "YkVpera5v4Bq"
      }
    },
    {
      "cell_type": "code",
      "source": [
        "text1.similar(\"monstrous\")"
      ],
      "metadata": {
        "colab": {
          "base_uri": "https://localhost:8080/"
        },
        "id": "QKTURKkgvSLU",
        "outputId": "b985784f-36b3-4133-cfc5-c5410503e692"
      },
      "execution_count": 13,
      "outputs": [
        {
          "output_type": "stream",
          "name": "stdout",
          "text": [
            "true contemptible christian abundant few part mean careful puzzled\n",
            "mystifying passing curious loving wise doleful gamesome singular\n",
            "delightfully perilous fearless\n"
          ]
        }
      ]
    },
    {
      "cell_type": "markdown",
      "source": [
        "# COMMON_CONTEXT()\n",
        "\n",
        "common_contexts allows us to examine just the contexts that are shared by two or more words"
      ],
      "metadata": {
        "id": "icm35hBwwMli"
      }
    },
    {
      "cell_type": "code",
      "source": [
        "text2.common_contexts([\"monstrous\", \"very\"])"
      ],
      "metadata": {
        "colab": {
          "base_uri": "https://localhost:8080/"
        },
        "id": "4Yfm46gMwD4-",
        "outputId": "54513760-ffff-4a88-8e07-2b4c63f4cd4e"
      },
      "execution_count": 15,
      "outputs": [
        {
          "output_type": "stream",
          "name": "stdout",
          "text": [
            "am_glad a_pretty a_lucky is_pretty be_glad\n"
          ]
        }
      ]
    },
    {
      "cell_type": "markdown",
      "source": [
        "# LEXICAL DISPERSION PLOT\n",
        "\n",
        "we can also determine the location of a word in the text: how many words from the beginning it appears. This positional information can be displayed using a dispersion plot. Each stripe represents an instance of a word, and each row represents the entire text."
      ],
      "metadata": {
        "id": "v1mVX7-NwcFt"
      }
    },
    {
      "cell_type": "code",
      "source": [
        "text4.dispersion_plot([\"citizens\", \"democracy\", \"freedom\", \"duties\", \"America\"])"
      ],
      "metadata": {
        "colab": {
          "base_uri": "https://localhost:8080/",
          "height": 295
        },
        "id": "gy_SSBZswSzc",
        "outputId": "d142c01e-a640-4fc6-d124-8c5672a9634b"
      },
      "execution_count": 16,
      "outputs": [
        {
          "output_type": "display_data",
          "data": {
            "text/plain": [
              "<Figure size 432x288 with 1 Axes>"
            ],
            "image/png": "[encoded data removed]"
          },
          "metadata": {
            "needs_background": "light"
          }
        }
      ]
    },
    {
      "cell_type": "markdown",
      "source": [
        "# GENERATE()\n",
        "\n",
        "https://www.nltk.org/_modules/nltk/parse/generate.html\n"
      ],
      "metadata": {
        "id": "OQRT0TisxTl0"
      }
    },
    {
      "cell_type": "code",
      "source": [
        "text4.generate()"
      ],
      "metadata": {
        "colab": {
          "base_uri": "https://localhost:8080/",
          "height": 250
        },
        "id": "vzJQGsJqwsGB",
        "outputId": "53d6f7cd-3a33-4872-ca8b-0b10462ff6c2"
      },
      "execution_count": 17,
      "outputs": [
        {
          "output_type": "stream",
          "name": "stderr",
          "text": [
            "Building ngram index...\n"
          ]
        },
        {
          "output_type": "stream",
          "name": "stdout",
          "text": [
            "obligations , and especially the truth that democratic government has\n",
            "innate capacity to govern its affairs aright through the Province\n",
            "ceded , by any timid forebodings of evil were not to overtake them\n",
            "while I possess the property of the pecuniary estimates for the\n",
            "advancement of civilization . , religion and a reckless disregard of\n",
            "the Argonne , Omaha Beach , Salerno and halfway around the globe , and\n",
            "nothing is more important in the House and the special attention of\n",
            "the Government to interfere with the advice and equipment to free ones\n",
            "; to the public agents intrusted with\n"
          ]
        },
        {
          "output_type": "execute_result",
          "data": {
            "text/plain": [
              "'obligations , and especially the truth that democratic government has\\ninnate capacity to govern its affairs aright through the Province\\nceded , by any timid forebodings of evil were not to overtake them\\nwhile I possess the property of the pecuniary estimates for the\\nadvancement of civilization . , religion and a reckless disregard of\\nthe Argonne , Omaha Beach , Salerno and halfway around the globe , and\\nnothing is more important in the House and the special attention of\\nthe Government to interfere with the advice and equipment to free ones\\n; to the public agents intrusted with'"
            ],
            "application/vnd.google.colaboratory.intrinsic+json": {
              "type": "string"
            }
          },
          "metadata": {},
          "execution_count": 17
        }
      ]
    },
    {
      "cell_type": "markdown",
      "source": [
        "# VOCABULARY COUNT\n",
        "\n",
        "Counts both words and punctuation symbols"
      ],
      "metadata": {
        "id": "WMi6j3chxfff"
      }
    },
    {
      "cell_type": "code",
      "source": [
        "len(text3)"
      ],
      "metadata": {
        "colab": {
          "base_uri": "https://localhost:8080/"
        },
        "id": "-5ZLK0l-xaO4",
        "outputId": "d3952606-3d6c-445d-d556-b46fdc344b2d"
      },
      "execution_count": 18,
      "outputs": [
        {
          "output_type": "execute_result",
          "data": {
            "text/plain": [
              "44764"
            ]
          },
          "metadata": {},
          "execution_count": 18
        }
      ]
    },
    {
      "cell_type": "code",
      "source": [
        "# obtaining distinct vocabulary count\n",
        "len(set(text3))"
      ],
      "metadata": {
        "colab": {
          "base_uri": "https://localhost:8080/"
        },
        "id": "4-5Yg5Bfxs7q",
        "outputId": "cd29432b-666f-4fc5-92fb-69879f8a4433"
      },
      "execution_count": 19,
      "outputs": [
        {
          "output_type": "execute_result",
          "data": {
            "text/plain": [
              "2789"
            ]
          },
          "metadata": {},
          "execution_count": 19
        }
      ]
    },
    {
      "cell_type": "code",
      "source": [
        "sorted(set(text3))"
      ],
      "metadata": {
        "id": "yL6nYEnExzz0"
      },
      "execution_count": null,
      "outputs": []
    },
    {
      "cell_type": "code",
      "source": [
        "text1.count(\"a\")"
      ],
      "metadata": {
        "colab": {
          "base_uri": "https://localhost:8080/"
        },
        "id": "IEgsqC5bx3Fl",
        "outputId": "75a141f3-aef5-48e4-bdb9-2b70093f66eb"
      },
      "execution_count": 21,
      "outputs": [
        {
          "output_type": "execute_result",
          "data": {
            "text/plain": [
              "4569"
            ]
          },
          "metadata": {},
          "execution_count": 21
        }
      ]
    },
    {
      "cell_type": "code",
      "source": [
        "100 * text1.count(\"a\") / len(text1)"
      ],
      "metadata": {
        "colab": {
          "base_uri": "https://localhost:8080/"
        },
        "id": "0IOluvM7yCu3",
        "outputId": "1f3fdbbb-0df1-4409-a8af-4505da18118d"
      },
      "execution_count": 22,
      "outputs": [
        {
          "output_type": "execute_result",
          "data": {
            "text/plain": [
              "1.7517895552087845"
            ]
          },
          "metadata": {},
          "execution_count": 22
        }
      ]
    },
    {
      "cell_type": "markdown",
      "source": [
        "#LEXICAL DIVERSITY\n",
        "\n",
        "ration of number of unique words to the total number of words"
      ],
      "metadata": {
        "id": "UdCqi_SsyLxA"
      }
    },
    {
      "cell_type": "code",
      "source": [
        "def lexical_diversity(text):\n",
        "    return len(set(text)) / len(text)"
      ],
      "metadata": {
        "id": "7gQMHKedyF_v"
      },
      "execution_count": 23,
      "outputs": []
    },
    {
      "cell_type": "code",
      "source": [
        "def percentage(count, total):\n",
        "    return 100 * count / total"
      ],
      "metadata": {
        "id": "iPfeOBHoyalh"
      },
      "execution_count": 24,
      "outputs": []
    },
    {
      "cell_type": "code",
      "source": [
        "lexical_diversity(text1)"
      ],
      "metadata": {
        "colab": {
          "base_uri": "https://localhost:8080/"
        },
        "id": "9SssT9AiyfzS",
        "outputId": "5b760d7a-1f6d-4921-e149-d4a4f7dfbe8a"
      },
      "execution_count": 25,
      "outputs": [
        {
          "output_type": "execute_result",
          "data": {
            "text/plain": [
              "0.07406285585022564"
            ]
          },
          "metadata": {},
          "execution_count": 25
        }
      ]
    },
    {
      "cell_type": "code",
      "source": [
        "percentage(4, 20_000)"
      ],
      "metadata": {
        "colab": {
          "base_uri": "https://localhost:8080/"
        },
        "id": "RUE1gOkxyjQx",
        "outputId": "f5dd517d-c336-4632-f7f0-e9a519382a49"
      },
      "execution_count": 26,
      "outputs": [
        {
          "output_type": "execute_result",
          "data": {
            "text/plain": [
              "0.02"
            ]
          },
          "metadata": {},
          "execution_count": 26
        }
      ]
    },
    {
      "cell_type": "markdown",
      "source": [
        "#GENERAL LIST OPERATIONS"
      ],
      "metadata": {
        "id": "qRLlaQuRzShM"
      }
    },
    {
      "cell_type": "code",
      "source": [
        "l = \"Hi My name is Jaspreet Singh Dhani\".split(\" \")\n",
        "l"
      ],
      "metadata": {
        "colab": {
          "base_uri": "https://localhost:8080/"
        },
        "id": "MCfCmLSrzD9B",
        "outputId": "ae53ad38-4f38-4d13-bab1-68bf484b5ea3"
      },
      "execution_count": 29,
      "outputs": [
        {
          "output_type": "execute_result",
          "data": {
            "text/plain": [
              "['Hi', 'My', 'name', 'is', 'Jaspreet', 'Singh', 'Dhani']"
            ]
          },
          "metadata": {},
          "execution_count": 29
        }
      ]
    },
    {
      "cell_type": "code",
      "source": [
        "sorted_l = sorted(l)\n",
        "sorted_l"
      ],
      "metadata": {
        "colab": {
          "base_uri": "https://localhost:8080/"
        },
        "id": "3evdyFToza_w",
        "outputId": "21b2395e-acef-4b71-c748-67196d0d6031"
      },
      "execution_count": 31,
      "outputs": [
        {
          "output_type": "execute_result",
          "data": {
            "text/plain": [
              "['Dhani', 'Hi', 'Jaspreet', 'My', 'Singh', 'is', 'name']"
            ]
          },
          "metadata": {},
          "execution_count": 31
        }
      ]
    },
    {
      "cell_type": "code",
      "source": [
        "name = \"Jaspreet Singh Dhani\"\n",
        "name[0]"
      ],
      "metadata": {
        "colab": {
          "base_uri": "https://localhost:8080/",
          "height": 35
        },
        "id": "hfoe4gWNzdlM",
        "outputId": "f2aaa3e7-ca55-47be-8881-cd200374a42f"
      },
      "execution_count": 32,
      "outputs": [
        {
          "output_type": "execute_result",
          "data": {
            "text/plain": [
              "'J'"
            ],
            "application/vnd.google.colaboratory.intrinsic+json": {
              "type": "string"
            }
          },
          "metadata": {},
          "execution_count": 32
        }
      ]
    },
    {
      "cell_type": "code",
      "source": [
        "l[-2:]"
      ],
      "metadata": {
        "colab": {
          "base_uri": "https://localhost:8080/"
        },
        "id": "Aj2MfJ6VzntX",
        "outputId": "5710e27b-9c77-4af4-bd9d-dddaa4a04c08"
      },
      "execution_count": 33,
      "outputs": [
        {
          "output_type": "execute_result",
          "data": {
            "text/plain": [
              "['Singh', 'Dhani']"
            ]
          },
          "metadata": {},
          "execution_count": 33
        }
      ]
    },
    {
      "cell_type": "markdown",
      "source": [
        "# COMPUTING WITH LANGUAGE: SIMPLE STATISTICS"
      ],
      "metadata": {
        "id": "SYAbxSeQ0Vd6"
      }
    },
    {
      "cell_type": "markdown",
      "source": [
        "## FREQUENCY DISTRIBUTIONS\n",
        "\n",
        "it tells us the frequency of each vocabulary item in the text. (In general, it could count any kind of observable event.) It is a \"distribution\" because it tells us how the total number of word tokens in the text are distributed across the vocabulary items"
      ],
      "metadata": {
        "id": "NW0Qp3PH0rS-"
      }
    },
    {
      "cell_type": "code",
      "source": [
        "fdist = FreqDist(text1)\n",
        "fdist"
      ],
      "metadata": {
        "colab": {
          "base_uri": "https://localhost:8080/"
        },
        "id": "KfV19Ub10lEE",
        "outputId": "70f3ace9-a99a-41c1-beaa-503e6937dd5c"
      },
      "execution_count": 34,
      "outputs": [
        {
          "output_type": "execute_result",
          "data": {
            "text/plain": [
              "FreqDist({',': 18713, 'the': 13721, '.': 6862, 'of': 6536, 'and': 6024, 'a': 4569, 'to': 4542, ';': 4072, 'in': 3916, 'that': 2982, ...})"
            ]
          },
          "metadata": {},
          "execution_count": 34
        }
      ]
    },
    {
      "cell_type": "code",
      "source": [
        "print(fdist)"
      ],
      "metadata": {
        "colab": {
          "base_uri": "https://localhost:8080/"
        },
        "id": "RnyBy7Ni1grv",
        "outputId": "56d70130-e347-48f6-9f9a-688ec31eb752"
      },
      "execution_count": 40,
      "outputs": [
        {
          "output_type": "stream",
          "name": "stdout",
          "text": [
            "<FreqDist with 19317 samples and 260819 outcomes>\n"
          ]
        }
      ]
    },
    {
      "cell_type": "code",
      "source": [
        "fdist.most_common(40)"
      ],
      "metadata": {
        "colab": {
          "base_uri": "https://localhost:8080/"
        },
        "id": "NA0swSGP1CR4",
        "outputId": "026d5cae-e50b-45b3-b66c-67010003cc2d"
      },
      "execution_count": 39,
      "outputs": [
        {
          "output_type": "execute_result",
          "data": {
            "text/plain": [
              "[(',', 18713),\n",
              " ('the', 13721),\n",
              " ('.', 6862),\n",
              " ('of', 6536),\n",
              " ('and', 6024),\n",
              " ('a', 4569),\n",
              " ('to', 4542),\n",
              " (';', 4072),\n",
              " ('in', 3916),\n",
              " ('that', 2982),\n",
              " (\"'\", 2684),\n",
              " ('-', 2552),\n",
              " ('his', 2459),\n",
              " ('it', 2209),\n",
              " ('I', 2124),\n",
              " ('s', 1739),\n",
              " ('is', 1695),\n",
              " ('he', 1661),\n",
              " ('with', 1659),\n",
              " ('was', 1632),\n",
              " ('as', 1620),\n",
              " ('\"', 1478),\n",
              " ('all', 1462),\n",
              " ('for', 1414),\n",
              " ('this', 1280),\n",
              " ('!', 1269),\n",
              " ('at', 1231),\n",
              " ('by', 1137),\n",
              " ('but', 1113),\n",
              " ('not', 1103),\n",
              " ('--', 1070),\n",
              " ('him', 1058),\n",
              " ('from', 1052),\n",
              " ('be', 1030),\n",
              " ('on', 1005),\n",
              " ('so', 918),\n",
              " ('whale', 906),\n",
              " ('one', 889),\n",
              " ('you', 841),\n",
              " ('had', 767)]"
            ]
          },
          "metadata": {},
          "execution_count": 39
        }
      ]
    },
    {
      "cell_type": "code",
      "source": [
        "fdist[\"at\"]"
      ],
      "metadata": {
        "colab": {
          "base_uri": "https://localhost:8080/"
        },
        "id": "FIffgoT_1FLN",
        "outputId": "df6b80ab-e11b-4672-bade-cbde99962401"
      },
      "execution_count": 36,
      "outputs": [
        {
          "output_type": "execute_result",
          "data": {
            "text/plain": [
              "1231"
            ]
          },
          "metadata": {},
          "execution_count": 36
        }
      ]
    },
    {
      "cell_type": "code",
      "source": [
        "fdist.plot(50, cumulative=True)"
      ],
      "metadata": {
        "colab": {
          "base_uri": "https://localhost:8080/",
          "height": 317
        },
        "id": "Wx6zT89r1O17",
        "outputId": "db9eee3c-f288-401c-ad3f-500f1affafd5"
      },
      "execution_count": 41,
      "outputs": [
        {
          "output_type": "display_data",
          "data": {
            "text/plain": [
              "<Figure size 432x288 with 1 Axes>"
            ],
            "image/png": "[encoded data removed]"
          },
          "metadata": {
            "needs_background": "light"
          }
        },
        {
          "output_type": "execute_result",
          "data": {
            "text/plain": [
              "<matplotlib.axes._subplots.AxesSubplot at 0x7fb2d398cad0>"
            ]
          },
          "metadata": {},
          "execution_count": 41
        }
      ]
    },
    {
      "cell_type": "code",
      "source": [
        "fdist.hapaxes()"
      ],
      "metadata": {
        "id": "C1Plg1Og1yXk"
      },
      "execution_count": null,
      "outputs": []
    },
    {
      "cell_type": "markdown",
      "source": [
        " It seems that there are too many rare words, and without seeing the context we probably can't guess what half of the hapaxes mean in any case!"
      ],
      "metadata": {
        "id": "AwBKXpAj3-uO"
      }
    },
    {
      "cell_type": "markdown",
      "source": [
        "## IDENTIFYING LONG-WORDS IN TEXT"
      ],
      "metadata": {
        "id": "piJn11oL49Sk"
      }
    },
    {
      "cell_type": "code",
      "source": [
        "v = set(text1)\n",
        "long_words = [w for w in v if len(w) > 15]\n",
        "long_words"
      ],
      "metadata": {
        "colab": {
          "base_uri": "https://localhost:8080/"
        },
        "id": "7g_hrLj25Q7H",
        "outputId": "dcb573ac-0064-474c-eeb0-77eb7a93981b"
      },
      "execution_count": 44,
      "outputs": [
        {
          "output_type": "execute_result",
          "data": {
            "text/plain": [
              "['characteristically',\n",
              " 'superstitiousness',\n",
              " 'irresistibleness',\n",
              " 'circumnavigating',\n",
              " 'indiscriminately',\n",
              " 'preternaturalness',\n",
              " 'undiscriminating',\n",
              " 'indispensableness',\n",
              " 'circumnavigation',\n",
              " 'comprehensiveness',\n",
              " 'uninterpenetratingly',\n",
              " 'simultaneousness',\n",
              " 'uncomfortableness',\n",
              " 'circumnavigations',\n",
              " 'CIRCUMNAVIGATION',\n",
              " 'subterraneousness',\n",
              " 'physiognomically',\n",
              " 'cannibalistically',\n",
              " 'apprehensiveness',\n",
              " 'Physiognomically',\n",
              " 'responsibilities',\n",
              " 'uncompromisedness',\n",
              " 'supernaturalness',\n",
              " 'hermaphroditical']"
            ]
          },
          "metadata": {},
          "execution_count": 44
        }
      ]
    },
    {
      "cell_type": "markdown",
      "source": [
        "the above condition will return results comprising of hapaxes as well, which might be informal in nature. Eg: Yaaaaaaaaaaaaayyyyyyyy , etc"
      ],
      "metadata": {
        "id": "tVQ6X_Xq6oFp"
      }
    },
    {
      "cell_type": "code",
      "source": [
        "fdist5 = FreqDist(text5)\n",
        "sorted(w for w in v if len(w)>7 and fdist5[w]>7)"
      ],
      "metadata": {
        "colab": {
          "base_uri": "https://localhost:8080/"
        },
        "id": "pir6x4Hi5YcA",
        "outputId": "11ae75ef-ef17-4588-b29b-df139ecfee31"
      },
      "execution_count": 45,
      "outputs": [
        {
          "output_type": "execute_result",
          "data": {
            "text/plain": [
              "['actually',\n",
              " 'anything',\n",
              " 'innocent',\n",
              " 'listening',\n",
              " 'remember',\n",
              " 'seriously',\n",
              " 'something',\n",
              " 'together',\n",
              " 'tomorrow',\n",
              " 'watching']"
            ]
          },
          "metadata": {},
          "execution_count": 45
        }
      ]
    },
    {
      "cell_type": "markdown",
      "source": [
        "Notice how we have used two conditions: len(w) > 7 ensures that the words are longer than seven letters, and fdist5[w] > 7 ensures that these words occur more than seven times. At last we have managed to automatically identify the frequently-occurring content-bearing words of the text. It is a modest but important milestone"
      ],
      "metadata": {
        "id": "jqEQS4FR50ID"
      }
    },
    {
      "cell_type": "markdown",
      "source": [
        "## COLLOCATIONS & BIGRAMS"
      ],
      "metadata": {
        "id": "N3kU72BK64U-"
      }
    },
    {
      "cell_type": "code",
      "source": [
        "list(bigrams(\"My name is Jaspreet Singh Dhani\".split()))"
      ],
      "metadata": {
        "colab": {
          "base_uri": "https://localhost:8080/"
        },
        "id": "VulbPY2t5tZ1",
        "outputId": "79b0a722-8900-4876-da8b-e43f6407e7b9"
      },
      "execution_count": 46,
      "outputs": [
        {
          "output_type": "execute_result",
          "data": {
            "text/plain": [
              "[('My', 'name'),\n",
              " ('name', 'is'),\n",
              " ('is', 'Jaspreet'),\n",
              " ('Jaspreet', 'Singh'),\n",
              " ('Singh', 'Dhani')]"
            ]
          },
          "metadata": {},
          "execution_count": 46
        }
      ]
    },
    {
      "cell_type": "code",
      "source": [
        "text1.collocations()"
      ],
      "metadata": {
        "colab": {
          "base_uri": "https://localhost:8080/"
        },
        "id": "QF6sVJb790RS",
        "outputId": "6091d26e-2eb1-4a6f-e62f-d60a46cab8f5"
      },
      "execution_count": 47,
      "outputs": [
        {
          "output_type": "stream",
          "name": "stdout",
          "text": [
            "Sperm Whale; Moby Dick; White Whale; old man; Captain Ahab; sperm\n",
            "whale; Right Whale; Captain Peleg; New Bedford; Cape Horn; cried Ahab;\n",
            "years ago; lower jaw; never mind; Father Mapple; cried Stubb; chief\n",
            "mate; white whale; ivory leg; one hand\n"
          ]
        }
      ]
    },
    {
      "cell_type": "markdown",
      "source": [
        "The collocations that emerge are very specific to the genre of the texts. In order to find red wine as a collocation, we would need to process a much larger body of text."
      ],
      "metadata": {
        "id": "szLOH8HX-O-M"
      }
    },
    {
      "cell_type": "markdown",
      "source": [
        "## COUNTING FREQUENCY OF OCCURRENCE IN TEXT\n",
        "\n",
        "Counting words is useful, but we can count other things too. For example, we can look at the distribution of word lengths in a text, by creating a FreqDist out of a long list of numbers, where each number is the length of the corresponding word in the text"
      ],
      "metadata": {
        "id": "OLPakOxT-0HU"
      }
    },
    {
      "cell_type": "code",
      "source": [
        "[len(w) for w in text1]"
      ],
      "metadata": {
        "id": "EokBoQmj-DcX"
      },
      "execution_count": null,
      "outputs": []
    },
    {
      "cell_type": "code",
      "source": [
        "fdist = FreqDist(len(w) for w in text1)\n",
        "fdist"
      ],
      "metadata": {
        "colab": {
          "base_uri": "https://localhost:8080/"
        },
        "id": "4mIrSE2q-9bu",
        "outputId": "d8e89ac1-3d62-42c4-bcda-cd32e777c96a"
      },
      "execution_count": 51,
      "outputs": [
        {
          "output_type": "execute_result",
          "data": {
            "text/plain": [
              "FreqDist({3: 50223, 1: 47933, 4: 42345, 2: 38513, 5: 26597, 6: 17111, 7: 14399, 8: 9966, 9: 6428, 10: 3528, ...})"
            ]
          },
          "metadata": {},
          "execution_count": 51
        }
      ]
    },
    {
      "cell_type": "code",
      "source": [
        "fdist.most_common(5)"
      ],
      "metadata": {
        "colab": {
          "base_uri": "https://localhost:8080/"
        },
        "id": "VvgNtQhL_FH9",
        "outputId": "88ff5dcd-eeda-4583-bf16-d3364c309911"
      },
      "execution_count": 53,
      "outputs": [
        {
          "output_type": "execute_result",
          "data": {
            "text/plain": [
              "[(3, 50223), (1, 47933), (4, 42345), (2, 38513), (5, 26597)]"
            ]
          },
          "metadata": {},
          "execution_count": 53
        }
      ]
    },
    {
      "cell_type": "code",
      "source": [
        "fdist[3]"
      ],
      "metadata": {
        "colab": {
          "base_uri": "https://localhost:8080/"
        },
        "id": "COEtTE_S_M4A",
        "outputId": "528addc9-0644-4e99-fe3d-58c15c15d95a"
      },
      "execution_count": 54,
      "outputs": [
        {
          "output_type": "execute_result",
          "data": {
            "text/plain": [
              "50223"
            ]
          },
          "metadata": {},
          "execution_count": 54
        }
      ]
    },
    {
      "cell_type": "code",
      "source": [
        "fdist.freq(3)"
      ],
      "metadata": {
        "colab": {
          "base_uri": "https://localhost:8080/"
        },
        "id": "uolUfWSQ_PfE",
        "outputId": "77700f2d-5612-4e2a-87a0-7f3b0c218adc"
      },
      "execution_count": 55,
      "outputs": [
        {
          "output_type": "execute_result",
          "data": {
            "text/plain": [
              "0.19255882431878046"
            ]
          },
          "metadata": {},
          "execution_count": 55
        }
      ]
    },
    {
      "cell_type": "code",
      "source": [
        "# total number of samples\n",
        "fdist.N()"
      ],
      "metadata": {
        "colab": {
          "base_uri": "https://localhost:8080/"
        },
        "id": "-AQRn_LA_QuN",
        "outputId": "60076c34-ba61-444c-81bd-8a8581f4a95e"
      },
      "execution_count": 57,
      "outputs": [
        {
          "output_type": "execute_result",
          "data": {
            "text/plain": [
              "260819"
            ]
          },
          "metadata": {},
          "execution_count": 57
        }
      ]
    },
    {
      "cell_type": "code",
      "source": [
        "fdist.max()"
      ],
      "metadata": {
        "colab": {
          "base_uri": "https://localhost:8080/"
        },
        "id": "ZLulJQIG_V0V",
        "outputId": "1ed642f9-ba9c-4368-af69-e500391472e3"
      },
      "execution_count": 58,
      "outputs": [
        {
          "output_type": "execute_result",
          "data": {
            "text/plain": [
              "3"
            ]
          },
          "metadata": {},
          "execution_count": 58
        }
      ]
    },
    {
      "cell_type": "code",
      "source": [
        "fdist.tabulate()"
      ],
      "metadata": {
        "colab": {
          "base_uri": "https://localhost:8080/"
        },
        "id": "p4SnWDIH_hFG",
        "outputId": "ae305177-7852-4b64-f5cf-b114553a6e8a"
      },
      "execution_count": 59,
      "outputs": [
        {
          "output_type": "stream",
          "name": "stdout",
          "text": [
            "    3     1     4     2     5     6     7     8     9    10    11    12    13    14    15    16    17    18    20 \n",
            "50223 47933 42345 38513 26597 17111 14399  9966  6428  3528  1873  1053   567   177    70    22    12     1     1 \n"
          ]
        }
      ]
    },
    {
      "cell_type": "code",
      "source": [
        "#test if samples in fdist occur less frequently than in fdist5\n",
        "fdist < fdist5"
      ],
      "metadata": {
        "colab": {
          "base_uri": "https://localhost:8080/"
        },
        "id": "jcwfEr6k_me4",
        "outputId": "219b02e2-f280-4925-bea4-2fefdfacf281"
      },
      "execution_count": 66,
      "outputs": [
        {
          "output_type": "execute_result",
          "data": {
            "text/plain": [
              "False"
            ]
          },
          "metadata": {},
          "execution_count": 66
        }
      ]
    },
    {
      "cell_type": "markdown",
      "source": [
        "## STRING CONDITIONALS\n",
        "\n",
        "**s.startswith(t)**\ttest if s starts with t <br>\n",
        "**s.endswith(t)**\ttest if s ends with t<br>\n",
        "**t in s**\ttest if t is a substring of s<br>\n",
        "**s.islower()**\ttest if s contains cased characters and all are lowercase<br>\n",
        "**s.isupper()**\ttest if s contains cased characters and all are uppercase<br>\n",
        "**s.isalpha()**\ttest if s is non-empty and all characters in s are alphabetic<br>\n",
        "**s.isalnum()**\ttest if s is non-empty and all characters in s are alphanumeric<br>\n",
        "**s.isdigit()**\ttest if s is non-empty and all characters in s are digits<br>\n",
        "**s.istitle()**\ttest if s contains cased characters and is titlecased (i.e. all words in s have initial capitals)"
      ],
      "metadata": {
        "id": "mN_OVDMbBKlQ"
      }
    },
    {
      "cell_type": "code",
      "source": [
        "sorted(w for w in set(text7) if '-' in w and 'index' in w)"
      ],
      "metadata": {
        "colab": {
          "base_uri": "https://localhost:8080/"
        },
        "id": "4Y2eApn3_t3p",
        "outputId": "4f66c414-d4dd-4bca-cad6-d17583fd8319"
      },
      "execution_count": 67,
      "outputs": [
        {
          "output_type": "execute_result",
          "data": {
            "text/plain": [
              "['Stock-index',\n",
              " 'index-arbitrage',\n",
              " 'index-fund',\n",
              " 'index-options',\n",
              " 'index-related',\n",
              " 'stock-index']"
            ]
          },
          "metadata": {},
          "execution_count": 67
        }
      ]
    },
    {
      "cell_type": "code",
      "source": [
        "[w.upper() for w in text1]"
      ],
      "metadata": {
        "id": "3zOqcxorBkWi"
      },
      "execution_count": null,
      "outputs": []
    },
    {
      "cell_type": "code",
      "source": [
        "len(set(text1))"
      ],
      "metadata": {
        "colab": {
          "base_uri": "https://localhost:8080/"
        },
        "id": "VLC1NL3zBow4",
        "outputId": "aa80ac0b-42fb-403a-cbfe-e34890846c96"
      },
      "execution_count": 69,
      "outputs": [
        {
          "output_type": "execute_result",
          "data": {
            "text/plain": [
              "19317"
            ]
          },
          "metadata": {},
          "execution_count": 69
        }
      ]
    },
    {
      "cell_type": "code",
      "source": [
        "len(set(w.lower() for w in text1))"
      ],
      "metadata": {
        "colab": {
          "base_uri": "https://localhost:8080/"
        },
        "id": "HUMa435-CK1e",
        "outputId": "0205b0c5-962f-4a02-c66a-caae2cd96ad3"
      },
      "execution_count": 70,
      "outputs": [
        {
          "output_type": "execute_result",
          "data": {
            "text/plain": [
              "17231"
            ]
          },
          "metadata": {},
          "execution_count": 70
        }
      ]
    },
    {
      "cell_type": "code",
      "source": [
        "len(set(w.lower() for w in text1 if w.isalpha()))"
      ],
      "metadata": {
        "colab": {
          "base_uri": "https://localhost:8080/"
        },
        "id": "1SyKNr3xCNU_",
        "outputId": "471c60e0-3dae-41cb-c6e7-56659f3bb26a"
      },
      "execution_count": 71,
      "outputs": [
        {
          "output_type": "execute_result",
          "data": {
            "text/plain": [
              "16948"
            ]
          },
          "metadata": {},
          "execution_count": 71
        }
      ]
    },
    {
      "cell_type": "markdown",
      "source": [
        "# NATURAL LANGUAGE PROCESSING"
      ],
      "metadata": {
        "id": "mISospssEUqp"
      }
    },
    {
      "cell_type": "markdown",
      "source": [
        "At a purely practical level, we all need help to navigate the universe of information locked up in text on the Web. Search engines have been crucial to the growth and popularity of the Web, but have some shortcomings. It takes skill, knowledge, and some luck, to extract answers to such questions as: What tourist sites can I visit between Philadelphia and Pittsburgh on a limited budget? What do experts say about digital SLR cameras? What predictions about the steel market were made by credible commentators in the past week? Getting a computer to answer them automatically involves a range of language processing tasks, including information extraction, inference, and summarization, and would need to be carried out on a scale and with a level of robustness that is still beyond our current capabilities.\n",
        "\n",
        "On a more philosophical level, a long-standing challenge within artificial intelligence has been to build intelligent machines, and a major part of intelligent behaviour is understanding language. For many years this goal has been seen as too difficult. However, as NLP technologies become more mature, and robust methods for analyzing unrestricted text become more widespread, the prospect of natural language understanding has re-emerged as a plausible goal."
      ],
      "metadata": {
        "id": "lmMoZimAEsPE"
      }
    },
    {
      "cell_type": "markdown",
      "source": [
        "## WORD SENSE DISAMBIGUATION"
      ],
      "metadata": {
        "id": "p0Wyzc2dFEpY"
      }
    },
    {
      "cell_type": "markdown",
      "source": [
        "Consider the ambiguous words serve and dish:\n",
        "\n",
        "a.\t\t**serve:** help with food or drink; hold an office; put ball into play\n",
        "\n",
        "b.\t\tdish: plate; course of a meal; communications device\n",
        "\n",
        "\n",
        "In a sentence containing the phrase: he served the dish, you can detect that both serve and dish are being used with their food meanings. It's unlikely that the topic of discussion shifted from sports to crockery in the space of three words. This would force you to invent bizarre images, like a tennis pro taking out his or her frustrations on a china tea-set laid out beside the court. In other words, we automatically disambiguate words using context, exploiting the simple fact that nearby words have closely related meanings. "
      ],
      "metadata": {
        "id": "UUlF-SeBFJwM"
      }
    },
    {
      "cell_type": "markdown",
      "source": [
        "## PRONOUN RESOLUTION"
      ],
      "metadata": {
        "id": "hcLXSJRiGJkI"
      }
    },
    {
      "cell_type": "markdown",
      "source": [
        "## GENERATING LANGUAGE OUTPUT\n",
        "\n",
        "If we can automatically solve such problems of language understanding, we will be able to move on to tasks that involve generating language output, such as question answering and machine translation. In the first case, a machine should be able to answer a user's questions relating to collection of texts:\n",
        "\n",
        "a.\t\t***Text:*** ... The thieves stole the paintings. They were subsequently sold. ...\n",
        "\n",
        "b.\t\t***Human:*** Who or what was sold?\n",
        "\n",
        "c.\t\t***Machine:*** The paintings.\n",
        "\n",
        "\n",
        "The machine's answer demonstrates that it has correctly worked out that they refers to paintings and not to thieves. In the second case, the machine should be able to translate the text into another language, accurately conveying the meaning of the original text. In translating the example text into French, we are forced to choose the gender of the pronoun in the second sentence: ils (masculine) if the thieves are found, and elles (feminine) if the paintings are found. Correct translation actually depends on correct understanding of the pronoun."
      ],
      "metadata": {
        "id": "-E-ql_d2GNQK"
      }
    },
    {
      "cell_type": "markdown",
      "source": [
        "## MACHINE TRANSLATION\n",
        "\n",
        "http://translationparty.com/\n",
        "\n",
        "Machine translation is difficult because a given word could have several possible translations (depending on its meaning), and because word order must be changed in keeping with the grammatical structure of the target language. Today these difficulties are being faced by collecting massive quantities of parallel texts from news and government websites that publish documents in two or more languages. Given a document in German and English, and possibly a bilingual dictionary, we can automatically pair up the sentences, a process called text alignment. Once we have a million or more sentence pairs, we can detect corresponding words and phrases, and build a model that can be used for translating new text."
      ],
      "metadata": {
        "id": "gstYnXlAHdxp"
      }
    },
    {
      "cell_type": "markdown",
      "source": [
        "## SPOKEN DIALOG SYSTEMS\n",
        "\n",
        "![Screenshot 2022-09-10 at 12.02.08 PM.png](data:image/png;base64,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)\n",
        "\n",
        "System seems to understand the user's goals: the user asks when a movie is showing and the system correctly determines from this that the user wants to see the movie. This inference seems so obvious that you probably didn't notice it was made, yet a natural language system needs to be endowed with this capability in order to interact naturally. Without it, when asked Do you know when Saving Private Ryan is playing?, a system might unhelpfully respond with a cold Yes. However, the developers of commercial dialogue systems use contextual assumptions and business logic to ensure that the different ways in which a user might express requests or provide information are handled in a way that makes sense for the particular application. So, if you type When is ..., or I want to know when ..., or Can you tell me when ..., simple rules will always yield screening times. This is enough for the system to provide a useful service."
      ],
      "metadata": {
        "id": "eD0l4LEdIZfB"
      }
    },
    {
      "cell_type": "markdown",
      "source": [
        "## TEXTUAL ENTAILMENT\n",
        "\n",
        "The challenge of language understanding has been brought into focus in recent years by a public \"shared task\" called Recognizing Textual Entailment (RTE). The basic scenario is simple. Suppose you want to find evidence to support the hypothesis: Sandra Goudie was defeated by Max Purnell, and that you have another short text that seems to be relevant, for example, Sandra Goudie was first elected to Parliament in the 2002 elections, narrowly winning the seat of Coromandel by defeating Labour candidate Max Purnell and pushing incumbent Green MP Jeanette Fitzsimons into third place. Does the text provide enough evidence for you to accept the hypothesis? In this particular case, the answer will be \"No.\" You can draw this conclusion easily, but it is very hard to come up with automated methods for making the right decision."
      ],
      "metadata": {
        "id": "Er7B_fwJJX-y"
      }
    },
    {
      "cell_type": "markdown",
      "source": [
        "## LIMITATIONS OF NLP\n",
        "\n",
        "\n",
        "\n",
        "*   severe limitations on the reasoning and knowledge capabilities of natural language systems.\n",
        "\n"
      ],
      "metadata": {
        "id": "JYEEFd-iKX0h"
      }
    },
    {
      "cell_type": "code",
      "source": [],
      "metadata": {
        "id": "YXKuSXkYCUVE"
      },
      "execution_count": null,
      "outputs": []
    }
  ]
}